{
 "cells": [
  {
   "cell_type": "code",
   "execution_count": 1,
   "metadata": {
    "collapsed": true,
    "deletable": true,
    "editable": true
   },
   "outputs": [],
   "source": [
    "# Importing libraries\n",
    "import pandas as pd\n",
    "import numpy as np\n",
    "import matplotlib.pyplot as plt\n",
    "\n",
    "# Read data\n",
    "data = pd.read_csv(\"data/imena_novorojenckov.csv\")"
   ]
  },
  {
   "cell_type": "code",
   "execution_count": 2,
   "metadata": {
    "collapsed": false,
    "deletable": true,
    "editable": true
   },
   "outputs": [],
   "source": [
    "# Replace Nan values\n",
    "data = data.replace({'-': '0'}, regex=True)"
   ]
  },
  {
   "cell_type": "code",
   "execution_count": 3,
   "metadata": {
    "collapsed": false,
    "deletable": true,
    "editable": true
   },
   "outputs": [
    {
     "data": {
      "text/plain": [
       "24"
      ]
     },
     "execution_count": 3,
     "metadata": {},
     "output_type": "execute_result"
    }
   ],
   "source": [
    "#Creating headers that will be used later\n",
    "header = list(data.columns.values)\n",
    "years = header[1:]\n",
    "sort_by_list = [False for i in range(len(years))]\n",
    "# Change all number in string to int\n",
    "data[years] = data[years].apply(pd.to_numeric)\n",
    "#Sort data\n",
    "sorted_data = data.sort_values(by=years[::-1], ascending=sort_by_list)\n",
    "len(years)"
   ]
  },
  {
   "cell_type": "code",
   "execution_count": 4,
   "metadata": {
    "collapsed": false,
    "deletable": true,
    "editable": true
   },
   "outputs": [
    {
     "data": {
      "text/plain": [
       "[1992, 1993, 1994, 1995, 1996, 1997, 1998, 1999, 2000, 2001, 2002, 2003]"
      ]
     },
     "execution_count": 4,
     "metadata": {},
     "output_type": "execute_result"
    }
   ],
   "source": [
    "from sklearn import datasets, linear_model\n",
    "\n",
    "#train_data_headers = ['Ime']\n",
    "#for i in years[:12]:\n",
    "#    train_data_headers.append(i)\n",
    "condition = data['Ime'] == 'Rok' \n",
    "train_data_X = data[years[:12]]\n",
    "train_data_X = train_data_X[condition].values\n",
    "\n",
    "test_data_X = data[years[-12:]]\n",
    "test_data_X = test_data_X[condition].values\n",
    "train_data_Y = list(map(int, years[:12]))\n",
    "test_data_Y = list(map(int, years[:12]))\n",
    "train_data_Y"
   ]
  },
  {
   "cell_type": "code",
   "execution_count": 5,
   "metadata": {
    "collapsed": true,
    "deletable": true,
    "editable": true
   },
   "outputs": [],
   "source": [
    "regr = linear_model.LinearRegression()"
   ]
  },
  {
   "cell_type": "code",
   "execution_count": 6,
   "metadata": {
    "collapsed": false,
    "deletable": true,
    "editable": true
   },
   "outputs": [
    {
     "data": {
      "text/plain": [
       "LinearRegression(copy_X=True, fit_intercept=True, n_jobs=1, normalize=False)"
      ]
     },
     "execution_count": 6,
     "metadata": {},
     "output_type": "execute_result"
    }
   ],
   "source": [
    "train_data_X = train_data_X.reshape(-1,1)\n",
    "train_data_X\n",
    "regr.fit(train_data_X, train_data_Y)"
   ]
  },
  {
   "cell_type": "code",
   "execution_count": 7,
   "metadata": {
    "collapsed": false,
    "deletable": true,
    "editable": true
   },
   "outputs": [
    {
     "name": "stdout",
     "output_type": "stream",
     "text": [
      "Coefficients: \n",
      " [-0.05821289]\n",
      "Mean squared error: 60.88\n",
      "Variance score: -4.11\n"
     ]
    }
   ],
   "source": [
    "test_data_X = test_data_X.reshape(-1,1)\n",
    "\n",
    "# The coefficients\n",
    "print('Coefficients: \\n', regr.coef_)\n",
    "# The mean squared error\n",
    "print(\"Mean squared error: %.2f\"\n",
    "      % np.mean((regr.predict(test_data_X) - test_data_Y) ** 2))\n",
    "# Explained variance score: 1 is perfect prediction\n",
    "print('Variance score: %.2f' % regr.score(test_data_X, test_data_Y))"
   ]
  },
  {
   "cell_type": "code",
   "execution_count": 8,
   "metadata": {
    "collapsed": false,
    "deletable": true,
    "editable": true
   },
   "outputs": [
    {
     "data": {
      "image/png": "[encoded data removed]",
      "text/plain": [
       "<matplotlib.figure.Figure at 0x7fec3b63b2e8>"
      ]
     },
     "metadata": {},
     "output_type": "display_data"
    }
   ],
   "source": [
    "# Plot outputs\n",
    "plt.scatter(test_data_X, test_data_Y,  color='black')\n",
    "plt.plot(test_data_X, regr.predict(test_data_X), color='blue',\n",
    "         linewidth=3)\n",
    "\n",
    "plt.xticks(())\n",
    "plt.yticks(())\n",
    "\n",
    "plt.show()"
   ]
  },
  {
   "cell_type": "code",
   "execution_count": 17,
   "metadata": {
    "collapsed": false
   },
   "outputs": [
    {
     "data": {
      "text/plain": [
       "array([[344],\n",
       "       [355],\n",
       "       [305],\n",
       "       [307],\n",
       "       [275],\n",
       "       [265],\n",
       "       [243],\n",
       "       [217],\n",
       "       [213],\n",
       "       [207],\n",
       "       [185],\n",
       "       [172],\n",
       "       [154],\n",
       "       [132],\n",
       "       [151],\n",
       "       [161],\n",
       "       [147],\n",
       "       [132],\n",
       "       [141],\n",
       "       [127],\n",
       "       [121],\n",
       "       [103],\n",
       "       [106],\n",
       "       [ 84]])"
      ]
     },
     "execution_count": 17,
     "metadata": {},
     "output_type": "execute_result"
    }
   ],
   "source": [
    "# Plot whole graph\n",
    "all_data = data[years]\n",
    "all_data = all_data[condition].values.reshape(-1,1)\n",
    "all_data"
   ]
  },
  {
   "cell_type": "code",
   "execution_count": 18,
   "metadata": {
    "collapsed": false
   },
   "outputs": [
    {
     "data": {
      "image/png": "[encoded data removed]",
      "text/plain": [
       "<matplotlib.figure.Figure at 0x7fec2e4f9da0>"
      ]
     },
     "metadata": {},
     "output_type": "display_data"
    }
   ],
   "source": [
    "plt.scatter(all_data, years,  color='black')\n",
    "plt.plot(all_data, regr.predict(all_data), color='blue',\n",
    "         linewidth=3)\n",
    "\n",
    "plt.xticks(())\n",
    "plt.yticks(())\n",
    "\n",
    "plt.show()"
   ]
  },
  {
   "cell_type": "code",
   "execution_count": 19,
   "metadata": {
    "collapsed": false
   },
   "outputs": [
    {
     "data": {
      "text/html": [
       "<div>\n",
       "<table border=\"1\" class=\"dataframe\">\n",
       "  <thead>\n",
       "    <tr style=\"text-align: right;\">\n",
       "      <th></th>\n",
       "      <th>Ime</th>\n",
       "      <th>1992</th>\n",
       "      <th>1993</th>\n",
       "      <th>1994</th>\n",
       "      <th>1995</th>\n",
       "      <th>1996</th>\n",
       "      <th>1997</th>\n",
       "      <th>1998</th>\n",
       "      <th>1999</th>\n",
       "      <th>2000</th>\n",
       "      <th>...</th>\n",
       "      <th>2006</th>\n",
       "      <th>2007</th>\n",
       "      <th>2008</th>\n",
       "      <th>2009</th>\n",
       "      <th>2010</th>\n",
       "      <th>2011</th>\n",
       "      <th>2012</th>\n",
       "      <th>2013</th>\n",
       "      <th>2014</th>\n",
       "      <th>2015</th>\n",
       "    </tr>\n",
       "  </thead>\n",
       "  <tbody>\n",
       "    <tr>\n",
       "      <th>334</th>\n",
       "      <td>Rok</td>\n",
       "      <td>344</td>\n",
       "      <td>355</td>\n",
       "      <td>305</td>\n",
       "      <td>307</td>\n",
       "      <td>275</td>\n",
       "      <td>265</td>\n",
       "      <td>243</td>\n",
       "      <td>217</td>\n",
       "      <td>213</td>\n",
       "      <td>...</td>\n",
       "      <td>151</td>\n",
       "      <td>161</td>\n",
       "      <td>147</td>\n",
       "      <td>132</td>\n",
       "      <td>141</td>\n",
       "      <td>127</td>\n",
       "      <td>121</td>\n",
       "      <td>103</td>\n",
       "      <td>106</td>\n",
       "      <td>84</td>\n",
       "    </tr>\n",
       "  </tbody>\n",
       "</table>\n",
       "<p>1 rows × 25 columns</p>\n",
       "</div>"
      ],
      "text/plain": [
       "     Ime  1992  1993  1994  1995  1996  1997  1998  1999  2000  ...   2006  \\\n",
       "334  Rok   344   355   305   307   275   265   243   217   213  ...    151   \n",
       "\n",
       "     2007  2008  2009  2010  2011  2012  2013  2014  2015  \n",
       "334   161   147   132   141   127   121   103   106    84  \n",
       "\n",
       "[1 rows x 25 columns]"
      ]
     },
     "execution_count": 19,
     "metadata": {},
     "output_type": "execute_result"
    }
   ],
   "source": [
    "data[condition]"
   ]
  },
  {
   "cell_type": "code",
   "execution_count": null,
   "metadata": {
    "collapsed": true
   },
   "outputs": [],
   "source": []
  }
 ],
 "metadata": {
  "kernelspec": {
   "display_name": "Python 3",
   "language": "python",
   "name": "python3"
  },
  "language_info": {
   "codemirror_mode": {
    "name": "ipython",
    "version": 3
   },
   "file_extension": ".py",
   "mimetype": "text/x-python",
   "name": "python",
   "nbconvert_exporter": "python",
   "pygments_lexer": "ipython3",
   "version": "3.6.0"
  }
 },
 "nbformat": 4,
 "nbformat_minor": 2
}
